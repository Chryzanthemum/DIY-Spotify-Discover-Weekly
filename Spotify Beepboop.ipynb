{
 "cells": [
  {
   "cell_type": "code",
   "execution_count": 2,
   "id": "5eadc0c2",
   "metadata": {},
   "outputs": [],
   "source": [
    "import pandas as pd\n",
    "import numpy as np\n",
    "import spotipy\n",
    "import spotipy.util as util\n",
    "from spotipy.oauth2 import SpotifyClientCredentials\n",
    "from spotipy.oauth2 import SpotifyOAuth\n",
    "from annoy import AnnoyIndex\n",
    "from datetime import datetime"
   ]
  },
  {
   "cell_type": "code",
   "execution_count": 39,
   "id": "971c3d74",
   "metadata": {},
   "outputs": [],
   "source": [
    "def get_nn(t, songs):\n",
    "    nearest_neighbors = list()\n",
    "    song_features = np.array(get_features(songs)[['danceability','energy','key','loudness','mode','speechiness','acousticness','instrumentalness','liveness','valence','tempo']])\n",
    "    for s in song_features:\n",
    "        nearest_neighbors.append(t.get_nns_by_vector(s, 5, search_k=-1, include_distances=True))\n",
    "        \n",
    "    df_nearest_neighbors_indices = pd.DataFrame()\n",
    "    for nn in nearest_neighbors:\n",
    "        # unpacks tuple and appends to df\n",
    "        df_nearest_neighbors_indices = df_nearest_neighbors_indices.append(\n",
    "            pd.DataFrame.from_dict(dict(zip(nn[0], nn[1])), \n",
    "                                   orient='index'))\n",
    "    df_nearest_neighbors_indices = (\n",
    "        df_nearest_neighbors_indices\n",
    "        .reset_index()\n",
    "        .groupby('index', as_index=False)\n",
    "        .min()\n",
    "        .rename(columns={\"index\":\"song_index\", 0:\"distance\"})\n",
    "    )    \n",
    "    # for each song in songs, we get a few close songs. Return all of them?\n",
    "    return df_nearest_neighbors_indices"
   ]
  },
  {
   "cell_type": "code",
   "execution_count": 17,
   "id": "92bf5dd1",
   "metadata": {},
   "outputs": [],
   "source": [
    "def recurse_playlist(id):\n",
    "    r = sp.playlist(id)\n",
    "    playlists.append(r)\n",
    "    if 'tracks' in r:\n",
    "        if 'next' in r['tracks']:\n",
    "            if r['tracks']['next'] is not None:\n",
    "                recurse_playlist(str.replace(r['tracks']['next'], 'https://api.spotify.com/v1/playlists/', ''))\n",
    "    elif 'next' in r:\n",
    "        if r['next'] is not None:\n",
    "            recurse_playlist(str.replace(r['next'], 'https://api.spotify.com/v1/playlists/', ''))\n",
    "    else:\n",
    "        pass"
   ]
  },
  {
   "cell_type": "code",
   "execution_count": 4,
   "id": "d269de03",
   "metadata": {},
   "outputs": [],
   "source": [
    "def get_metadata(ids):\n",
    "    metadata = list()\n",
    "    # 50 limit on api call    \n",
    "    for i in range(0,len(ids),50):\n",
    "        meta = sp.tracks(ids[i:i+50])\n",
    "        for data in meta['tracks']:\n",
    "            artists = list()\n",
    "            if data is not None:\n",
    "                for artist in data['artists']:\n",
    "                    artists.append(artist['id'])\n",
    "                metadata.append({\"song_id\":data['id'],  \n",
    "                                 \"artists\":artists, \n",
    "                                 \"song_name\":data['name'], \n",
    "                                 \"album_id\":data['album']['id'],\n",
    "                                 \"album_name\":data['album']['name'],\n",
    "                                 \"popularity\":data['popularity']})\n",
    "    return pd.DataFrame(metadata)"
   ]
  },
  {
   "cell_type": "code",
   "execution_count": 44,
   "id": "3841e7fb",
   "metadata": {},
   "outputs": [],
   "source": [
    "def build_annoy_index(array, trees=10):\n",
    "    # vector size is feature length, idk wtf angular does\n",
    "    t = AnnoyIndex(11, 'angular')\n",
    "    for i in range(len(array)):\n",
    "        t.add_item(i, selected_features[i])\n",
    "    # once this is built, you can't add items to it. Should we build it somewhere else?\n",
    "    t.build(trees)\n",
    "    \n",
    "    return t"
   ]
  },
  {
   "cell_type": "code",
   "execution_count": 41,
   "id": "7bb937f9",
   "metadata": {},
   "outputs": [],
   "source": [
    "def create_playlist(songs):\n",
    "    user_id = sp.me()['id']\n",
    "    timestampStr = datetime.now().strftime(\"%d-%b-%Y (%H:%M:%S.%f)\")\n",
    "    sp.user_playlist_create(user_id, f'Customized Discover Weekly - {timestampStr}')\n",
    "    # We don't get the playlist id when we create it, so we take the user's first 50 playlists, then find the name we gave it\n",
    "    playlists = sp.user_playlists(sp.me()['id'])['items']\n",
    "    playlist_names = {}\n",
    "    for i in playlists:\n",
    "        playlist_names[i['name']] = i['id']\n",
    "    playlist_id = playlist_names[f'Customized Discover Weekly - {timestampStr}']\n",
    "    sp.playlist_add_items(playlist_id, songs)"
   ]
  },
  {
   "cell_type": "code",
   "execution_count": 40,
   "id": "94c909fb",
   "metadata": {},
   "outputs": [],
   "source": [
    "def apply_filtering_criteria(songs_df):\n",
    "    # stick a bunch of rules on there to get us to 30 songs\n",
    "    # right now let's just take top 30\n",
    "    return songs_df.sort_values(by='distance', ascending=False).head(30)[['song_index']]\n",
    "    "
   ]
  },
  {
   "cell_type": "code",
   "execution_count": 5,
   "id": "7434cd89",
   "metadata": {},
   "outputs": [],
   "source": [
    "def get_features(ids):\n",
    "    features = []\n",
    "    # 50 limit on api call\n",
    "    for i in range(0,len(ids),50):\n",
    "        audio_features = sp.audio_features(ids[i:i+50])\n",
    "        for track in audio_features:\n",
    "            if track is not None:\n",
    "                features.append(track)\n",
    "    \n",
    "    return pd.DataFrame(features)"
   ]
  },
  {
   "cell_type": "code",
   "execution_count": 6,
   "id": "33bc9efb",
   "metadata": {},
   "outputs": [],
   "source": [
    "def recurse_saved_songs(offset=0):\n",
    "    r = sp.current_user_saved_tracks(20, offset)\n",
    "    for i in r['items']:\n",
    "        songs.append({\"id\":i['track']['id'], \"added_at\":i['added_at']})\n",
    "    if r['next']:\n",
    "        offset+=20\n",
    "        recurse_saved_songs(offset)"
   ]
  },
  {
   "cell_type": "code",
   "execution_count": 7,
   "id": "2e0d2bec",
   "metadata": {},
   "outputs": [],
   "source": [
    "cid =\"0deb154cdea34cfa9c50fc76938403b9\" \n",
    "secret = \"6aa3c3ee390d4421bdc6a860cf33c686\"\n",
    "username = \"Ben\""
   ]
  },
  {
   "cell_type": "code",
   "execution_count": 8,
   "id": "a6d2ea66",
   "metadata": {},
   "outputs": [],
   "source": [
    "credentials = SpotifyClientCredentials(\n",
    "        client_id=cid,\n",
    "        client_secret=secret)"
   ]
  },
  {
   "cell_type": "code",
   "execution_count": 9,
   "id": "889c573b",
   "metadata": {},
   "outputs": [],
   "source": [
    "sp = spotipy.Spotify(auth_manager=credentials)"
   ]
  },
  {
   "cell_type": "code",
   "execution_count": 10,
   "id": "6fdc6f3f",
   "metadata": {},
   "outputs": [],
   "source": [
    "user_ids = [\n",
    "    'kirstendodo',\n",
    "    '1260745480',\n",
    "    '1255526461',\n",
    "    'athenajiang',\n",
    "    '1239664093',\n",
    "    '1268639225',\n",
    "    '22eja5lr4xyqrmdgb4jox74pi',\n",
    "    'russellkim98',\n",
    "    '1213055384',\n",
    "    '12563360',\n",
    "    '1218288200',\n",
    "    '22vxpm5y7bws42rgecwwdtqzq',\n",
    "    '2lb6yucjb2mmlbpqvv7f6tpa',\n",
    "    'hahowie',\n",
    "    '1233302457',\n",
    "    'clairehuangg',\n",
    "    'gmfrlife',\n",
    "    'karawho',\n",
    "    '1210134132',\n",
    "    'gracehuang22',\n",
    "    'sangeethaisrofl',\n",
    "    '124028238',\n",
    "    '1228739853',\n",
    "    '1249053478',\n",
    "    '1249402231',\n",
    "    '1261634901',\n",
    "    'jasonliao',\n",
    "    '12101413836',\n",
    "    '227lrr7ufyoef3thjhnzjcbhi',\n",
    "    '1263186670',\n",
    "    '126549512',\n",
    "    '22tbkcbk3npj7dmozb5xcvegq',\n",
    "    '1258256267',\n",
    "    'zenbhang',\n",
    "    '1249768840',\n",
    "    '1251291991',\n",
    "    '1293249673',\n",
    "    '12184871363',\n",
    "    '1225107231',\n",
    "    '21jm5sg2qelg57la434krzpjy',\n",
    "    '22n5d3jkyzx6ucmdh6stknedi'\n",
    "]"
   ]
  },
  {
   "cell_type": "code",
   "execution_count": 11,
   "id": "e9093d96",
   "metadata": {},
   "outputs": [
    {
     "name": "stderr",
     "output_type": "stream",
     "text": [
      "HTTP Error for GET to https://api.spotify.com/v1/users/2lb6yucjb2mmlbpqvv7f6tpa/playlists with Params: {'limit': 50, 'offset': 0} returned 404 due to Not found.\n"
     ]
    },
    {
     "name": "stdout",
     "output_type": "stream",
     "text": [
      "2lb6yucjb2mmlbpqvv7f6tpa error\n"
     ]
    }
   ],
   "source": [
    "playlist_ids = set()\n",
    "for ui in user_ids:\n",
    "    try:\n",
    "        r = sp.user_playlists(ui, limit=50)\n",
    "        for i in r['items']:\n",
    "            playlist_ids.add(i['id'])\n",
    "    except:\n",
    "        print(ui, 'error')"
   ]
  },
  {
   "cell_type": "code",
   "execution_count": 18,
   "id": "eb998e3c",
   "metadata": {},
   "outputs": [],
   "source": [
    "# This chunk takes a while, possible that there's a better way to do this\n",
    "playlists = list()\n",
    "for i in playlist_ids:\n",
    "    recurse_playlist(str.replace(i, 'https://open.spotify.com/playlist/', ''))"
   ]
  },
  {
   "cell_type": "code",
   "execution_count": 19,
   "id": "cc4b0335",
   "metadata": {},
   "outputs": [],
   "source": [
    "# This chunk is instantaneous\n",
    "ids = set()\n",
    "for p in playlists:  \n",
    "    if 'tracks' in p:\n",
    "        for item in p['tracks']['items']:\n",
    "            try:\n",
    "                if item['track']['id'] is not None:\n",
    "                    ids.add(item['track']['id'])\n",
    "            except:\n",
    "                pass\n",
    "    elif 'items' in p:\n",
    "        for item in p['items']:\n",
    "            try:\n",
    "                if item['track']['id'] is not None:\n",
    "                    ids.add(item['track']['id'])\n",
    "            except:\n",
    "                pass"
   ]
  },
  {
   "cell_type": "code",
   "execution_count": 22,
   "id": "0a7b31a0",
   "metadata": {},
   "outputs": [],
   "source": [
    "df_metadata = get_metadata(list(ids))"
   ]
  },
  {
   "cell_type": "code",
   "execution_count": 24,
   "id": "a2f64c3b",
   "metadata": {},
   "outputs": [],
   "source": [
    "df_features = get_features(list(ids))\n",
    "# We probably just want to build a db with all of these song + features"
   ]
  },
  {
   "cell_type": "code",
   "execution_count": 25,
   "id": "18a63d1b",
   "metadata": {},
   "outputs": [
    {
     "data": {
      "text/plain": [
       "41109"
      ]
     },
     "execution_count": 25,
     "metadata": {},
     "output_type": "execute_result"
    }
   ],
   "source": [
    "len(df_metadata)"
   ]
  },
  {
   "cell_type": "code",
   "execution_count": 27,
   "id": "48a985bc",
   "metadata": {},
   "outputs": [
    {
     "data": {
      "text/html": [
       "<div>\n",
       "<style scoped>\n",
       "    .dataframe tbody tr th:only-of-type {\n",
       "        vertical-align: middle;\n",
       "    }\n",
       "\n",
       "    .dataframe tbody tr th {\n",
       "        vertical-align: top;\n",
       "    }\n",
       "\n",
       "    .dataframe thead th {\n",
       "        text-align: right;\n",
       "    }\n",
       "</style>\n",
       "<table border=\"1\" class=\"dataframe\">\n",
       "  <thead>\n",
       "    <tr style=\"text-align: right;\">\n",
       "      <th></th>\n",
       "      <th>song_id</th>\n",
       "      <th>artists</th>\n",
       "      <th>song_name</th>\n",
       "      <th>album_id</th>\n",
       "      <th>album_name</th>\n",
       "      <th>popularity</th>\n",
       "    </tr>\n",
       "  </thead>\n",
       "  <tbody>\n",
       "    <tr>\n",
       "      <th>0</th>\n",
       "      <td>6OZoT8AhDTz57JY2UU5J7n</td>\n",
       "      <td>[5E2rtn57BM2WPjwak4kGd5]</td>\n",
       "      <td>One Armed Scissor</td>\n",
       "      <td>33h4FVCtfR6FUpFyd2yLNO</td>\n",
       "      <td>Relationship Of Command</td>\n",
       "      <td>0</td>\n",
       "    </tr>\n",
       "    <tr>\n",
       "      <th>1</th>\n",
       "      <td>5j7ixaLeGTGSv4DzKs0pCM</td>\n",
       "      <td>[4UK2Lzi6fBfUi9rpDt6cik]</td>\n",
       "      <td>だから僕は音楽を辞めた</td>\n",
       "      <td>4b9nOSXSf1LROzgfYFxdxI</td>\n",
       "      <td>だから僕は音楽を辞めた</td>\n",
       "      <td>62</td>\n",
       "    </tr>\n",
       "    <tr>\n",
       "      <th>2</th>\n",
       "      <td>2LFprH1a4nNvmYha55xhj6</td>\n",
       "      <td>[7blXVKBSxdFZsIqlhdViKc]</td>\n",
       "      <td>sucks to see you doing better</td>\n",
       "      <td>2W8nO4x2KlHc3z3xxe23PW</td>\n",
       "      <td>sucks to see you doing better (extended)</td>\n",
       "      <td>54</td>\n",
       "    </tr>\n",
       "    <tr>\n",
       "      <th>3</th>\n",
       "      <td>6mQpCpdsCp4uBD4n9fyBuF</td>\n",
       "      <td>[7o7mC95EDbJKTcPAAs8C3r]</td>\n",
       "      <td>Touch the Sky</td>\n",
       "      <td>5jZz8NsXPLu7eSUkye6jpa</td>\n",
       "      <td>The Night Is Young</td>\n",
       "      <td>29</td>\n",
       "    </tr>\n",
       "    <tr>\n",
       "      <th>4</th>\n",
       "      <td>0sYfwwEy0UyNizk6na4zGm</td>\n",
       "      <td>[12trz2INGglrKMzLmg0y2C]</td>\n",
       "      <td>Just Like You</td>\n",
       "      <td>6q8BNcH6wkWwWC0fGoJwkS</td>\n",
       "      <td>The Juice: Vol. II</td>\n",
       "      <td>55</td>\n",
       "    </tr>\n",
       "  </tbody>\n",
       "</table>\n",
       "</div>"
      ],
      "text/plain": [
       "                  song_id                   artists  \\\n",
       "0  6OZoT8AhDTz57JY2UU5J7n  [5E2rtn57BM2WPjwak4kGd5]   \n",
       "1  5j7ixaLeGTGSv4DzKs0pCM  [4UK2Lzi6fBfUi9rpDt6cik]   \n",
       "2  2LFprH1a4nNvmYha55xhj6  [7blXVKBSxdFZsIqlhdViKc]   \n",
       "3  6mQpCpdsCp4uBD4n9fyBuF  [7o7mC95EDbJKTcPAAs8C3r]   \n",
       "4  0sYfwwEy0UyNizk6na4zGm  [12trz2INGglrKMzLmg0y2C]   \n",
       "\n",
       "                       song_name                album_id  \\\n",
       "0              One Armed Scissor  33h4FVCtfR6FUpFyd2yLNO   \n",
       "1                    だから僕は音楽を辞めた  4b9nOSXSf1LROzgfYFxdxI   \n",
       "2  sucks to see you doing better  2W8nO4x2KlHc3z3xxe23PW   \n",
       "3                  Touch the Sky  5jZz8NsXPLu7eSUkye6jpa   \n",
       "4                  Just Like You  6q8BNcH6wkWwWC0fGoJwkS   \n",
       "\n",
       "                                 album_name  popularity  \n",
       "0                   Relationship Of Command           0  \n",
       "1                               だから僕は音楽を辞めた          62  \n",
       "2  sucks to see you doing better (extended)          54  \n",
       "3                        The Night Is Young          29  \n",
       "4                        The Juice: Vol. II          55  "
      ]
     },
     "execution_count": 27,
     "metadata": {},
     "output_type": "execute_result"
    }
   ],
   "source": [
    "df_metadata.head()"
   ]
  },
  {
   "cell_type": "code",
   "execution_count": 28,
   "id": "c5feb0d1",
   "metadata": {},
   "outputs": [],
   "source": [
    "# We lost a bunch of rows apparently? Weird\n",
    "# df_metadata.loc[[5773, 2176, 54482, 35915, 40399, 20884, 9975, 20049, 21284, 35395, 17865, 18383, 7704, 7742, 20480, 26160, 9222, 8400, 44129, 35589, 7778, 18590, 3200, 25901, 55937],:]"
   ]
  },
  {
   "cell_type": "markdown",
   "id": "02aacc95",
   "metadata": {},
   "source": [
    "# User Features"
   ]
  },
  {
   "cell_type": "code",
   "execution_count": 29,
   "id": "e89fbfe9",
   "metadata": {},
   "outputs": [],
   "source": [
    "scope = ['user-library-read', \"playlist-modify-public\"]\n",
    "\n",
    "sp = spotipy.Spotify(auth_manager=SpotifyOAuth(client_id = \"0deb154cdea34cfa9c50fc76938403b9\",\n",
    "                                               client_secret = secret,\n",
    "                                               redirect_uri= 'http://127.0.0.1:5000/spotify/callback',\n",
    "                                               scope=scope,\n",
    "                                              open_browser=True))"
   ]
  },
  {
   "cell_type": "code",
   "execution_count": 35,
   "id": "bfa62011",
   "metadata": {},
   "outputs": [],
   "source": [
    "songs = list()\n",
    "recurse_saved_songs()\n",
    "\n",
    "df_your_songs = pd.DataFrame(songs)\n",
    "\n",
    "df_your_songs.head()"
   ]
  },
  {
   "cell_type": "code",
   "execution_count": 46,
   "id": "9eabf331",
   "metadata": {},
   "outputs": [],
   "source": [
    "selected_features = np.array(df_features[['danceability','energy','key','loudness','mode','speechiness','acousticness','instrumentalness','liveness','valence','tempo']])\n",
    "\n",
    "index = build_annoy_index(selected_features)\n",
    "index.save('data/test.ann')"
   ]
  },
  {
   "cell_type": "code",
   "execution_count": 48,
   "id": "cde475b4",
   "metadata": {},
   "outputs": [
    {
     "name": "stderr",
     "output_type": "stream",
     "text": [
      "/var/folders/sn/15t878hn1q960xqhs753lbzr0000gn/T/ipykernel_18248/2924931645.py:10: FutureWarning: The frame.append method is deprecated and will be removed from pandas in a future version. Use pandas.concat instead.\n",
      "  df_nearest_neighbors_indices = df_nearest_neighbors_indices.append(\n",
      "/var/folders/sn/15t878hn1q960xqhs753lbzr0000gn/T/ipykernel_18248/2924931645.py:10: FutureWarning: The frame.append method is deprecated and will be removed from pandas in a future version. Use pandas.concat instead.\n",
      "  df_nearest_neighbors_indices = df_nearest_neighbors_indices.append(\n",
      "/var/folders/sn/15t878hn1q960xqhs753lbzr0000gn/T/ipykernel_18248/2924931645.py:10: FutureWarning: The frame.append method is deprecated and will be removed from pandas in a future version. Use pandas.concat instead.\n",
      "  df_nearest_neighbors_indices = df_nearest_neighbors_indices.append(\n",
      "/var/folders/sn/15t878hn1q960xqhs753lbzr0000gn/T/ipykernel_18248/2924931645.py:10: FutureWarning: The frame.append method is deprecated and will be removed from pandas in a future version. Use pandas.concat instead.\n",
      "  df_nearest_neighbors_indices = df_nearest_neighbors_indices.append(\n",
      "/var/folders/sn/15t878hn1q960xqhs753lbzr0000gn/T/ipykernel_18248/2924931645.py:10: FutureWarning: The frame.append method is deprecated and will be removed from pandas in a future version. Use pandas.concat instead.\n",
      "  df_nearest_neighbors_indices = df_nearest_neighbors_indices.append(\n"
     ]
    }
   ],
   "source": [
    "df_nearest_neighbors_indices = get_nn(index, df_your_songs.head()['id'])"
   ]
  },
  {
   "cell_type": "code",
   "execution_count": 50,
   "id": "52c8b7b9",
   "metadata": {},
   "outputs": [
    {
     "data": {
      "text/html": [
       "<div>\n",
       "<style scoped>\n",
       "    .dataframe tbody tr th:only-of-type {\n",
       "        vertical-align: middle;\n",
       "    }\n",
       "\n",
       "    .dataframe tbody tr th {\n",
       "        vertical-align: top;\n",
       "    }\n",
       "\n",
       "    .dataframe thead th {\n",
       "        text-align: right;\n",
       "    }\n",
       "</style>\n",
       "<table border=\"1\" class=\"dataframe\">\n",
       "  <thead>\n",
       "    <tr style=\"text-align: right;\">\n",
       "      <th></th>\n",
       "      <th>song_index</th>\n",
       "      <th>distance</th>\n",
       "    </tr>\n",
       "  </thead>\n",
       "  <tbody>\n",
       "    <tr>\n",
       "      <th>0</th>\n",
       "      <td>927</td>\n",
       "      <td>0.003738</td>\n",
       "    </tr>\n",
       "    <tr>\n",
       "      <th>1</th>\n",
       "      <td>1071</td>\n",
       "      <td>0.001945</td>\n",
       "    </tr>\n",
       "    <tr>\n",
       "      <th>2</th>\n",
       "      <td>1681</td>\n",
       "      <td>0.002409</td>\n",
       "    </tr>\n",
       "    <tr>\n",
       "      <th>3</th>\n",
       "      <td>2422</td>\n",
       "      <td>0.001677</td>\n",
       "    </tr>\n",
       "    <tr>\n",
       "      <th>4</th>\n",
       "      <td>3466</td>\n",
       "      <td>0.001459</td>\n",
       "    </tr>\n",
       "  </tbody>\n",
       "</table>\n",
       "</div>"
      ],
      "text/plain": [
       "   song_index  distance\n",
       "0         927  0.003738\n",
       "1        1071  0.001945\n",
       "2        1681  0.002409\n",
       "3        2422  0.001677\n",
       "4        3466  0.001459"
      ]
     },
     "execution_count": 50,
     "metadata": {},
     "output_type": "execute_result"
    }
   ],
   "source": [
    "df_nearest_neighbors_indices.head()"
   ]
  },
  {
   "cell_type": "code",
   "execution_count": 51,
   "id": "7ea07a59",
   "metadata": {},
   "outputs": [],
   "source": [
    "df_filtered_songs = apply_filtering_criteria(df_nearest_neighbors_indices)"
   ]
  },
  {
   "cell_type": "code",
   "execution_count": 60,
   "id": "84c5159c",
   "metadata": {},
   "outputs": [],
   "source": [
    "output_songs = df_metadata.iloc[list(df_filtered_songs['song_index']), :][['song_id']]"
   ]
  },
  {
   "cell_type": "code",
   "execution_count": 61,
   "id": "20c36cca",
   "metadata": {},
   "outputs": [
    {
     "data": {
      "text/html": [
       "<div>\n",
       "<style scoped>\n",
       "    .dataframe tbody tr th:only-of-type {\n",
       "        vertical-align: middle;\n",
       "    }\n",
       "\n",
       "    .dataframe tbody tr th {\n",
       "        vertical-align: top;\n",
       "    }\n",
       "\n",
       "    .dataframe thead th {\n",
       "        text-align: right;\n",
       "    }\n",
       "</style>\n",
       "<table border=\"1\" class=\"dataframe\">\n",
       "  <thead>\n",
       "    <tr style=\"text-align: right;\">\n",
       "      <th></th>\n",
       "      <th>song_id</th>\n",
       "    </tr>\n",
       "  </thead>\n",
       "  <tbody>\n",
       "    <tr>\n",
       "      <th>12051</th>\n",
       "      <td>58AGoOGbwsQMhBbH0eFLRR</td>\n",
       "    </tr>\n",
       "    <tr>\n",
       "      <th>39613</th>\n",
       "      <td>2TWqTeDjVpcZfgrblmf86g</td>\n",
       "    </tr>\n",
       "    <tr>\n",
       "      <th>927</th>\n",
       "      <td>7IRyfeJIBmi08GYgEZwWMM</td>\n",
       "    </tr>\n",
       "    <tr>\n",
       "      <th>16448</th>\n",
       "      <td>7CFPVdKn4FFkIm7rZYhNZQ</td>\n",
       "    </tr>\n",
       "    <tr>\n",
       "      <th>13944</th>\n",
       "      <td>2QhURnm7mQDxBb5jWkbDug</td>\n",
       "    </tr>\n",
       "  </tbody>\n",
       "</table>\n",
       "</div>"
      ],
      "text/plain": [
       "                      song_id\n",
       "12051  58AGoOGbwsQMhBbH0eFLRR\n",
       "39613  2TWqTeDjVpcZfgrblmf86g\n",
       "927    7IRyfeJIBmi08GYgEZwWMM\n",
       "16448  7CFPVdKn4FFkIm7rZYhNZQ\n",
       "13944  2QhURnm7mQDxBb5jWkbDug"
      ]
     },
     "execution_count": 61,
     "metadata": {},
     "output_type": "execute_result"
    }
   ],
   "source": [
    "output_songs.head()"
   ]
  },
  {
   "cell_type": "code",
   "execution_count": 56,
   "id": "d6c58e4d",
   "metadata": {},
   "outputs": [],
   "source": [
    "# index can just be the integer : song id mapping LMFAO\n",
    "df = df_features.reset_index()"
   ]
  },
  {
   "cell_type": "code",
   "execution_count": null,
   "id": "ee569d22",
   "metadata": {},
   "outputs": [],
   "source": [
    "# select song ids that are not already in \n",
    "# worry about this later\n",
    "# right now all we need to do is get the feature vectors for the songs you've loaded and check for nearest"
   ]
  },
  {
   "cell_type": "code",
   "execution_count": null,
   "id": "6b890a69",
   "metadata": {},
   "outputs": [],
   "source": [
    "\n",
    "# annoy is basically\n",
    "# [1: [feature1, feature2, feature3]]\n",
    "# it only supporst integers as identifiers for items, so will have to map\n",
    "# t = AnnoyIndex(f, 'angular')  # Length of item vector that will be indexed\n",
    "#     t.add_item(i, v)\n",
    "# t.build(10) # 10 trees\n",
    "# print(t.get_nns_by_item(0, 1000)) # will find the 1000 nearest neighbors"
   ]
  },
  {
   "cell_type": "code",
   "execution_count": null,
   "id": "ee596713",
   "metadata": {},
   "outputs": [],
   "source": [
    "def get_songs_for_nn():\n",
    "# Apply some sampling criteria to get a bunch of songs based on the user's last X days of activity (sampling? most recent)\n",
    "    \n",
    "    return pass"
   ]
  },
  {
   "cell_type": "code",
   "execution_count": 57,
   "id": "ef69711b",
   "metadata": {},
   "outputs": [
    {
     "data": {
      "text/plain": [
       "25"
      ]
     },
     "execution_count": 57,
     "metadata": {},
     "output_type": "execute_result"
    }
   ],
   "source": [
    "len(songs)"
   ]
  },
  {
   "cell_type": "code",
   "execution_count": 62,
   "id": "3c7584f3",
   "metadata": {},
   "outputs": [],
   "source": [
    "create_playlist(list(songs['song_id']))"
   ]
  },
  {
   "cell_type": "code",
   "execution_count": null,
   "id": "fbbc9aeb",
   "metadata": {},
   "outputs": [],
   "source": [
    "playlists = sp.user_playlists(sp.me()['id'])['items']"
   ]
  },
  {
   "cell_type": "code",
   "execution_count": null,
   "id": "16a14cc6",
   "metadata": {},
   "outputs": [],
   "source": [
    "playlist_names = {}\n",
    "for i in playlists:\n",
    "    playlist_names[i['name']] = i['id']"
   ]
  },
  {
   "cell_type": "code",
   "execution_count": null,
   "id": "2ceefa48",
   "metadata": {},
   "outputs": [],
   "source": [
    "np.random.randint(100,101 + 100,size=(100, 1))/100"
   ]
  },
  {
   "cell_type": "code",
   "execution_count": null,
   "id": "d27b3be6",
   "metadata": {},
   "outputs": [],
   "source": [
    "if type(3) == int:\n",
    "    print('i')"
   ]
  },
  {
   "cell_type": "code",
   "execution_count": null,
   "id": "d8f973e3",
   "metadata": {},
   "outputs": [],
   "source": []
  }
 ],
 "metadata": {
  "kernelspec": {
   "display_name": "Python 3 (ipykernel)",
   "language": "python",
   "name": "python3"
  },
  "language_info": {
   "codemirror_mode": {
    "name": "ipython",
    "version": 3
   },
   "file_extension": ".py",
   "mimetype": "text/x-python",
   "name": "python",
   "nbconvert_exporter": "python",
   "pygments_lexer": "ipython3",
   "version": "3.8.9"
  }
 },
 "nbformat": 4,
 "nbformat_minor": 5
}
