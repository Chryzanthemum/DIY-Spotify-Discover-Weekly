{
 "cells": [
  {
   "cell_type": "code",
   "execution_count": 2,
   "id": "5eadc0c2",
   "metadata": {},
   "outputs": [],
   "source": [
    "import pandas as pd\n",
    "import numpy as np\n",
    "import spotipy\n",
    "import spotipy.util as util\n",
    "from spotipy.oauth2 import SpotifyClientCredentials\n",
    "from spotipy.oauth2 import SpotifyOAuth\n",
    "from annoy import AnnoyIndex"
   ]
  },
  {
   "cell_type": "code",
   "execution_count": 3,
   "id": "92bf5dd1",
   "metadata": {},
   "outputs": [],
   "source": [
    "def recurse_playlist(id):\n",
    "    r = sp.playlist(id)\n",
    "    playlists.append(r)\n",
    "    if 'tracks' in r:\n",
    "        if 'next' in r['tracks']:\n",
    "            if r['tracks']['next'] is not None:\n",
    "                recurse_playlist(str.replace(r['tracks']['next'], 'https://api.spotify.com/v1/playlists/', ''))\n",
    "    elif 'next' in r:\n",
    "        if r['next'] is not None:\n",
    "            recurse_playlist(str.replace(r['next'], 'https://api.spotify.com/v1/playlists/', ''))\n",
    "    else:\n",
    "        pass"
   ]
  },
  {
   "cell_type": "code",
   "execution_count": 4,
   "id": "d269de03",
   "metadata": {},
   "outputs": [],
   "source": [
    "def get_metadata(ids):\n",
    "    metadata = list()\n",
    "    # 50 limit on api call    \n",
    "    for i in range(0,len(ids),50):\n",
    "        meta = sp.tracks(ids[i:i+50])\n",
    "        for data in meta['tracks']:\n",
    "            artists = list()\n",
    "            if data is not None:\n",
    "                for artist in data['artists']:\n",
    "                    artists.append(artist['id'])\n",
    "                metadata.append({\"song_id\":data['id'],  \n",
    "                                 \"artists\":artists, \n",
    "                                 \"song_name\":data['name'], \n",
    "                                 \"album_id\":data['album']['id'],\n",
    "                                 \"album_name\":data['album']['name'],\n",
    "                                 \"popularity\":data['popularity']})\n",
    "    return pd.DataFrame(metadata)"
   ]
  },
  {
   "cell_type": "code",
   "execution_count": 5,
   "id": "7434cd89",
   "metadata": {},
   "outputs": [],
   "source": [
    "def get_features(ids):\n",
    "    features = []\n",
    "    # 50 limit on api call\n",
    "    for i in range(0,len(ids),50):\n",
    "        audio_features = sp.audio_features(ids[i:i+50])\n",
    "        for track in audio_features:\n",
    "            if track is not None:\n",
    "                features.append(track)\n",
    "    \n",
    "    return pd.DataFrame(features)"
   ]
  },
  {
   "cell_type": "code",
   "execution_count": 6,
   "id": "33bc9efb",
   "metadata": {},
   "outputs": [],
   "source": [
    "def recurse_saved_songs(offset=0):\n",
    "    r = sp.current_user_saved_tracks(20, offset)\n",
    "    for i in r['items']:\n",
    "        songs.append({\"id\":i['track']['id'], \"added_at\":i['added_at']})\n",
    "    if r['next']:\n",
    "        offset+=20\n",
    "        recurse_saved_songs(offset)"
   ]
  },
  {
   "cell_type": "code",
   "execution_count": 7,
   "id": "2e0d2bec",
   "metadata": {},
   "outputs": [],
   "source": [
    "cid =\"0deb154cdea34cfa9c50fc76938403b9\" \n",
    "secret = \"6aa3c3ee390d4421bdc6a860cf33c686\"\n",
    "username = \"Ben\""
   ]
  },
  {
   "cell_type": "code",
   "execution_count": 9,
   "id": "a6d2ea66",
   "metadata": {},
   "outputs": [],
   "source": [
    "credentials = SpotifyClientCredentials(\n",
    "        client_id=cid,\n",
    "        client_secret=secret)"
   ]
  },
  {
   "cell_type": "code",
   "execution_count": 10,
   "id": "889c573b",
   "metadata": {},
   "outputs": [],
   "source": [
    "sp = spotipy.Spotify(auth_manager=credentials)"
   ]
  },
  {
   "cell_type": "code",
   "execution_count": 48,
   "id": "6fdc6f3f",
   "metadata": {},
   "outputs": [],
   "source": [
    "user_ids = [\n",
    "    'kirstendodo',\n",
    "    '1260745480',\n",
    "    '1255526461',\n",
    "    'athenajiang',\n",
    "    '1239664093',\n",
    "    '1268639225',\n",
    "    '22eja5lr4xyqrmdgb4jox74pi',\n",
    "    'russellkim98',\n",
    "    '1213055384',\n",
    "    '12563360',\n",
    "    '1218288200',\n",
    "    '22vxpm5y7bws42rgecwwdtqzq',\n",
    "    '2lb6yucjb2mmlbpqvv7f6tpa',\n",
    "    'hahowie',\n",
    "    '1233302457',\n",
    "    'clairehuangg',\n",
    "    'gmfrlife',\n",
    "    'karawho',\n",
    "    '1210134132',\n",
    "    'gracehuang22',\n",
    "    'sangeethaisrofl',\n",
    "    '124028238',\n",
    "    '1228739853',\n",
    "    '1249053478',\n",
    "    '1249402231',\n",
    "    '1261634901',\n",
    "    'jasonliao',\n",
    "    '12101413836',\n",
    "    '227lrr7ufyoef3thjhnzjcbhi',\n",
    "    '1263186670',\n",
    "    '126549512',\n",
    "    '22tbkcbk3npj7dmozb5xcvegq',\n",
    "    '1258256267',\n",
    "    'zenbhang',\n",
    "    '1249768840',\n",
    "    '1251291991',\n",
    "    '1293249673',\n",
    "    '12184871363',\n",
    "    '1225107231',\n",
    "    '21jm5sg2qelg57la434krzpjy',\n",
    "    '22n5d3jkyzx6ucmdh6stknedi'\n",
    "]"
   ]
  },
  {
   "cell_type": "code",
   "execution_count": 49,
   "id": "e9093d96",
   "metadata": {},
   "outputs": [
    {
     "name": "stderr",
     "output_type": "stream",
     "text": [
      "HTTP Error for GET to https://api.spotify.com/v1/users/2lb6yucjb2mmlbpqvv7f6tpa/playlists with Params: {'limit': 50, 'offset': 0} returned 404 due to Not found.\n"
     ]
    },
    {
     "name": "stdout",
     "output_type": "stream",
     "text": [
      "2lb6yucjb2mmlbpqvv7f6tpa error\n"
     ]
    }
   ],
   "source": [
    "playlist_ids = list()\n",
    "for ui in user_ids:\n",
    "    try:\n",
    "        r = sp.user_playlists(ui, limit=50)\n",
    "        for i in r['items']:\n",
    "            playlist_ids.append(i['id'])\n",
    "    except:\n",
    "        print(ui, 'error')"
   ]
  },
  {
   "cell_type": "code",
   "execution_count": 13,
   "id": "eb998e3c",
   "metadata": {},
   "outputs": [],
   "source": [
    "playlists = list()\n",
    "for i in playlist_ids:\n",
    "    recurse_playlist(str.replace(i, 'https://open.spotify.com/playlist/', ''))"
   ]
  },
  {
   "cell_type": "code",
   "execution_count": 14,
   "id": "cc4b0335",
   "metadata": {},
   "outputs": [],
   "source": [
    "ids = []\n",
    "for p in playlists:  \n",
    "    if 'tracks' in p:\n",
    "        for item in p['tracks']['items']:\n",
    "            try:\n",
    "                if item['track']['id'] is not None:\n",
    "                    ids.append(item['track']['id'])\n",
    "            except:\n",
    "                pass\n",
    "    elif 'items' in p:\n",
    "        for item in p['items']:\n",
    "            try:\n",
    "                if item['track']['id'] is not None:\n",
    "                    ids.append(item['track']['id'])\n",
    "            except:\n",
    "                pass"
   ]
  },
  {
   "cell_type": "code",
   "execution_count": 15,
   "id": "0a7b31a0",
   "metadata": {},
   "outputs": [],
   "source": [
    "df_metadata = get_metadata(ids)"
   ]
  },
  {
   "cell_type": "code",
   "execution_count": 17,
   "id": "a2f64c3b",
   "metadata": {},
   "outputs": [],
   "source": [
    "df_features = get_features(ids)\n",
    "# We probably just want to build a db with all of these song + features"
   ]
  },
  {
   "cell_type": "markdown",
   "id": "02aacc95",
   "metadata": {},
   "source": [
    "# User Features"
   ]
  },
  {
   "cell_type": "code",
   "execution_count": 18,
   "id": "e89fbfe9",
   "metadata": {},
   "outputs": [],
   "source": [
    "scope = 'user-library-read'\n",
    "\n",
    "sp = spotipy.Spotify(auth_manager=SpotifyOAuth(client_id = \"0deb154cdea34cfa9c50fc76938403b9\",\n",
    "                                               client_secret = secret,\n",
    "                                               redirect_uri= 'http://127.0.0.1:5000/spotify/callback',\n",
    "                                               scope=scope,\n",
    "                                              open_browser=True))"
   ]
  },
  {
   "cell_type": "code",
   "execution_count": null,
   "id": "af3d2e6a",
   "metadata": {},
   "outputs": [],
   "source": [
    "# There's this \n",
    "# GET https://api.spotify.com/v1/me/top/{type}\n"
   ]
  },
  {
   "cell_type": "code",
   "execution_count": null,
   "id": "d53ed331",
   "metadata": {},
   "outputs": [],
   "source": [
    "# if you authorize this app, we should take your profile URL and "
   ]
  },
  {
   "cell_type": "code",
   "execution_count": 19,
   "id": "bfa62011",
   "metadata": {},
   "outputs": [],
   "source": [
    "songs = list()\n",
    "recurse_saved_songs()"
   ]
  },
  {
   "cell_type": "code",
   "execution_count": 20,
   "id": "a8b495c4",
   "metadata": {},
   "outputs": [],
   "source": [
    "df_your_songs = pd.DataFrame(songs)"
   ]
  },
  {
   "cell_type": "code",
   "execution_count": 21,
   "id": "cde475b4",
   "metadata": {},
   "outputs": [
    {
     "data": {
      "text/html": [
       "<div>\n",
       "<style scoped>\n",
       "    .dataframe tbody tr th:only-of-type {\n",
       "        vertical-align: middle;\n",
       "    }\n",
       "\n",
       "    .dataframe tbody tr th {\n",
       "        vertical-align: top;\n",
       "    }\n",
       "\n",
       "    .dataframe thead th {\n",
       "        text-align: right;\n",
       "    }\n",
       "</style>\n",
       "<table border=\"1\" class=\"dataframe\">\n",
       "  <thead>\n",
       "    <tr style=\"text-align: right;\">\n",
       "      <th></th>\n",
       "      <th>id</th>\n",
       "      <th>added_at</th>\n",
       "    </tr>\n",
       "  </thead>\n",
       "  <tbody>\n",
       "    <tr>\n",
       "      <th>0</th>\n",
       "      <td>5fWG4JDot8nHCte7gUdMUS</td>\n",
       "      <td>2021-10-09T22:39:45Z</td>\n",
       "    </tr>\n",
       "    <tr>\n",
       "      <th>1</th>\n",
       "      <td>4piGD6lbuj57rxausi0brN</td>\n",
       "      <td>2021-10-06T23:12:48Z</td>\n",
       "    </tr>\n",
       "    <tr>\n",
       "      <th>2</th>\n",
       "      <td>5RQmbhnkrt6llPrxqRsym4</td>\n",
       "      <td>2021-10-03T12:18:34Z</td>\n",
       "    </tr>\n",
       "    <tr>\n",
       "      <th>3</th>\n",
       "      <td>75sMhi81W5Tw2AGlOGATuy</td>\n",
       "      <td>2021-09-28T03:56:05Z</td>\n",
       "    </tr>\n",
       "    <tr>\n",
       "      <th>4</th>\n",
       "      <td>0OOT6JmtkcYidsuQ9Fh54i</td>\n",
       "      <td>2021-09-21T16:30:28Z</td>\n",
       "    </tr>\n",
       "  </tbody>\n",
       "</table>\n",
       "</div>"
      ],
      "text/plain": [
       "                       id              added_at\n",
       "0  5fWG4JDot8nHCte7gUdMUS  2021-10-09T22:39:45Z\n",
       "1  4piGD6lbuj57rxausi0brN  2021-10-06T23:12:48Z\n",
       "2  5RQmbhnkrt6llPrxqRsym4  2021-10-03T12:18:34Z\n",
       "3  75sMhi81W5Tw2AGlOGATuy  2021-09-28T03:56:05Z\n",
       "4  0OOT6JmtkcYidsuQ9Fh54i  2021-09-21T16:30:28Z"
      ]
     },
     "execution_count": 21,
     "metadata": {},
     "output_type": "execute_result"
    }
   ],
   "source": [
    "df_your_songs.head()"
   ]
  },
  {
   "cell_type": "code",
   "execution_count": 59,
   "id": "36938776",
   "metadata": {},
   "outputs": [
    {
     "data": {
      "text/plain": [
       "57500"
      ]
     },
     "execution_count": 59,
     "metadata": {},
     "output_type": "execute_result"
    }
   ],
   "source": [
    "len(df_features)"
   ]
  },
  {
   "cell_type": "code",
   "execution_count": 25,
   "id": "76f433f3",
   "metadata": {},
   "outputs": [],
   "source": [
    "# index can just be the integer : song id mapping LMFAO\n",
    "df = df_features.reset_index()"
   ]
  },
  {
   "cell_type": "code",
   "execution_count": 30,
   "id": "e0fb6d4b",
   "metadata": {},
   "outputs": [],
   "source": [
    "test = np.array(df_features[['danceability','energy','key','loudness','mode','speechiness','acousticness','instrumentalness','liveness','valence','tempo']])"
   ]
  },
  {
   "cell_type": "code",
   "execution_count": null,
   "id": "f2b107d0",
   "metadata": {},
   "outputs": [],
   "source": [
    "def build_annoy_index(trees=10, array):\n",
    "    # vector size is feature length, idk wtf angular does\n",
    "    t = AnnoyIndex(11, 'angular')\n",
    "    for i in range(len(array)):\n",
    "        t.add_item(i, test[i])\n",
    "    # once this is built, you can't add items to it. Should we build it somewhere else?\n",
    "    t.build(trees)\n",
    "    \n",
    "    return t"
   ]
  },
  {
   "cell_type": "code",
   "execution_count": null,
   "id": "42263f61",
   "metadata": {},
   "outputs": [],
   "source": [
    "# select song ids that are not already in \n",
    "# worry about this later\n",
    "# right now all we need to do is get the feature vectors for the songs you've loaded and check for nearest"
   ]
  },
  {
   "cell_type": "code",
   "execution_count": 1,
   "id": "6b890a69",
   "metadata": {},
   "outputs": [],
   "source": [
    "\n",
    "# annoy is basically\n",
    "# [1: [feature1, feature2, feature3]]\n",
    "# it only supporst integers as identifiers for items, so will have to map\n",
    "# t = AnnoyIndex(f, 'angular')  # Length of item vector that will be indexed\n",
    "#     t.add_item(i, v)\n",
    "# t.build(10) # 10 trees\n",
    "# print(t.get_nns_by_item(0, 1000)) # will find the 1000 nearest neighbors"
   ]
  },
  {
   "cell_type": "code",
   "execution_count": null,
   "id": "ee596713",
   "metadata": {},
   "outputs": [],
   "source": [
    "def get_songs_for_nn():\n",
    "# Apply some sampling criteria to get a bunch of songs based on the user's last X days of activity (sampling? most recent)\n",
    "    \n",
    "    return pass"
   ]
  },
  {
   "cell_type": "code",
   "execution_count": 60,
   "id": "971c3d74",
   "metadata": {},
   "outputs": [],
   "source": [
    "def get_nn(t, songs):\n",
    "    nn = list()\n",
    "    song_features = np.array(get_features(songs)[['danceability','energy','key','loudness','mode','speechiness','acousticness','instrumentalness','liveness','valence','tempo']])\n",
    "    for s in song_features:\n",
    "        nn.append(t.get_nns_by_vector(v, 5, search_k=-1, include_distances=False))\n",
    "    # for each song in songs, we get a few close songs. Return all of them?\n",
    "    return nn"
   ]
  },
  {
   "cell_type": "code",
   "execution_count": null,
   "id": "94c909fb",
   "metadata": {},
   "outputs": [],
   "source": [
    "def apply_filtering_criteria(songs_df):\n",
    "    # stick a bunch of rules on there to get us to 30 songs"
   ]
  },
  {
   "cell_type": "code",
   "execution_count": null,
   "id": "7bb937f9",
   "metadata": {},
   "outputs": [],
   "source": [
    "def create_playlist(songs):\n",
    "    # create the playlist for the user"
   ]
  }
 ],
 "metadata": {
  "kernelspec": {
   "display_name": "Python 3",
   "language": "python",
   "name": "python3"
  },
  "language_info": {
   "codemirror_mode": {
    "name": "ipython",
    "version": 3
   },
   "file_extension": ".py",
   "mimetype": "text/x-python",
   "name": "python",
   "nbconvert_exporter": "python",
   "pygments_lexer": "ipython3",
   "version": "3.8.8"
  }
 },
 "nbformat": 4,
 "nbformat_minor": 5
}
